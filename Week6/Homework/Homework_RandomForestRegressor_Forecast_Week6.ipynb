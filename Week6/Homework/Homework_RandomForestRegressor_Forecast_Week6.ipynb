{
 "cells": [
  {
   "cell_type": "code",
   "execution_count": null,
   "metadata": {},
   "outputs": [],
   "source": []
  },
  {
   "cell_type": "markdown",
   "metadata": {},
   "source": [
    "# Random Forest Regressor for Time Series Forecasting"
   ]
  },
  {
   "cell_type": "code",
   "execution_count": 25,
   "metadata": {},
   "outputs": [],
   "source": [
    "import pandas as pd\n",
    "from sklearn.ensemble import RandomForestRegressor\n",
    "from sklearn.metrics import mean_squared_error, mean_absolute_error, mean_absolute_percentage_error\n",
    "import numpy as np"
   ]
  },
  {
   "cell_type": "code",
   "execution_count": 9,
   "metadata": {},
   "outputs": [],
   "source": [
    "# Upload passenger data ofd airline as your time series data:\n",
    "data = pd.read_csv('data/AirPassengers.csv')"
   ]
  },
  {
   "cell_type": "code",
   "execution_count": null,
   "metadata": {},
   "outputs": [],
   "source": [
    "# Rename columns 'Month' as 'date' and '#Passengers' as 'value'\n",
    "\n",
    "data.rename(\n",
    "            \n",
    "            # Fill out with your code! \n",
    "            \n",
    "            inplace=True\n",
    "            )"
   ]
  },
  {
   "cell_type": "code",
   "execution_count": 10,
   "metadata": {},
   "outputs": [],
   "source": [
    "# Features Engineering\n",
    "\n",
    "# Temporal features\n",
    "\n",
    "def create_features(data, date_column):\n",
    "    ### Create Date indicators\n",
    "    data[\"Year\"]         = pd.to_datetime(data[date_column]).dt.year\n",
    "    data[\"Quarter\"]      = pd.to_datetime(data[date_column]).dt.quarter\n",
    "    data[\"Month\"]        = pd.to_datetime(data[date_column]).dt.month\n",
    "    data[\"Semester\"]     = data[\"Month\"].map(lambda x: 1 if x<=6 else 2)\n",
    "    return data"
   ]
  },
  {
   "cell_type": "code",
   "execution_count": null,
   "metadata": {},
   "outputs": [],
   "source": [
    "# Create the new temporal features from the 'date' column:\n",
    "\n",
    "df =         # Fill out with your code! \n",
    "\n",
    "df"
   ]
  },
  {
   "cell_type": "code",
   "execution_count": 15,
   "metadata": {},
   "outputs": [],
   "source": [
    "# Reset index with values in 'date' column:\n",
    "\n",
    "df =         # Fill out with your code! \n",
    "\n",
    "df"
   ]
  },
  {
   "cell_type": "code",
   "execution_count": null,
   "metadata": {},
   "outputs": [],
   "source": [
    "# Create lagged features for all input features and the target feature 'value'. \n",
    "\n",
    "# Name the new columns with the suffix '_lag_{i}' for a time lag of i.\n",
    "\n",
    "lags = 3 # Number of previous time steps to use as features\n",
    "\n",
    "for col in df.columns:\n",
    "    \n",
    "    for i in range(1, lags + 1):\n",
    "        \n",
    "        df[col + f'_lag_{i}'] =         # Fill out with your code! \n",
    "    \n",
    "df = df.dropna()\n",
    "df"
   ]
  },
  {
   "cell_type": "code",
   "execution_count": null,
   "metadata": {},
   "outputs": [],
   "source": [
    "# Split data into training and testing sets\n",
    "X = df[[col for col in df.columns if 'lag' in col]]\n",
    "y = df['value']\n",
    "\n",
    "split_date = \"1959-01\"\n",
    "\n",
    "X_train = X.loc[X.index < split_date]\n",
    "y_train = y.loc[y.index < split_date]\n",
    "X_test = X.loc[X.index >= split_date]\n",
    "y_test = y.loc[y.index >= split_date]\n"
   ]
  },
  {
   "cell_type": "code",
   "execution_count": null,
   "metadata": {},
   "outputs": [],
   "source": [
    "X_test"
   ]
  },
  {
   "cell_type": "code",
   "execution_count": null,
   "metadata": {},
   "outputs": [],
   "source": [
    "y_test"
   ]
  },
  {
   "cell_type": "code",
   "execution_count": 23,
   "metadata": {},
   "outputs": [],
   "source": [
    "# Instantatiate the Random Forest Regressor model:\n",
    "model = RandomForestRegressor(n_estimators=100, random_state=42)\n",
    "\n",
    "# Perform the model training: \n",
    "model.fit(\n",
    "    \n",
    "            # Fill out with your code! \n",
    "          \n",
    "          )\n",
    "\n",
    "# Make predictions on the test set\n",
    "predictions = model.predict(X_test)"
   ]
  },
  {
   "cell_type": "code",
   "execution_count": null,
   "metadata": {},
   "outputs": [],
   "source": [
    "# Evaluate the model:\n",
    "# Calculate the Root Mean Squared Error, Mean Absolute Error and Mean Absolute Percentage Error.\n",
    "# Round results to 3 digits after the decimal point.\n",
    "\n",
    "rmse =      # Fill out with your code! \n",
    "print(f'Root Mean Squared Error: {rmse}')\n",
    "\n",
    "mae =       # Fill out with your code! \n",
    "print(f'Mean Absolute Error: {mae}')\n",
    "\n",
    "mape =      # Fill out with your code! \n",
    "print(f'Mean Absolute Percentage Error: {mape}')"
   ]
  },
  {
   "cell_type": "code",
   "execution_count": null,
   "metadata": {},
   "outputs": [],
   "source": [
    "# Forecast future values\n",
    "forecast_steps = 5\n",
    "forecast_input = X.iloc[[-1]].values # Use the last available data as input\n",
    "forecasts = []\n",
    "\n",
    "for _ in range(forecast_steps):\n",
    "    forecast = model.predict(forecast_input)[0]\n",
    "    forecasts.append(forecast)\n",
    "    \n",
    "    forecast_input = np.roll(forecast_input, -1, axis=1) # Shift values to the left\n",
    "    forecast_input[0, -1] = forecast # Replace the last value with the new forecast"
   ]
  },
  {
   "cell_type": "code",
   "execution_count": null,
   "metadata": {},
   "outputs": [],
   "source": [
    "print(f'Forecasted values for the next {forecast_steps} steps: {forecasts}')"
   ]
  },
  {
   "cell_type": "code",
   "execution_count": null,
   "metadata": {},
   "outputs": [],
   "source": []
  },
  {
   "cell_type": "markdown",
   "metadata": {},
   "source": [
    "# Submission Instructions:\n",
    "\n",
    "- Go to the **Assessments** tab in iCollege and click on **Assignments.** Submit your solution under the **Homework 3** category.\n",
    "\n",
    "- Report your values for **rmse, mae, and mape** for your model performance in the Homework submission field in iCollege.\n",
    "\n",
    "- Report the list of the **predicted passenger counts** for the next 5 forecast steps.\n",
    "\n",
    "- Attach this **executed (!)** Jupyter notebook and submit with your response above in iCollege."
   ]
  },
  {
   "cell_type": "code",
   "execution_count": null,
   "metadata": {},
   "outputs": [],
   "source": []
  },
  {
   "cell_type": "code",
   "execution_count": null,
   "metadata": {},
   "outputs": [],
   "source": []
  }
 ],
 "metadata": {
  "kernelspec": {
   "display_name": "venv_timeseries",
   "language": "python",
   "name": "python3"
  },
  "language_info": {
   "codemirror_mode": {
    "name": "ipython",
    "version": 3
   },
   "file_extension": ".py",
   "mimetype": "text/x-python",
   "name": "python",
   "nbconvert_exporter": "python",
   "pygments_lexer": "ipython3",
   "version": "3.9.6"
  }
 },
 "nbformat": 4,
 "nbformat_minor": 2
}
